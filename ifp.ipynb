version https://git-lfs.github.com/spec/v1
oid sha256:9dee7a66c03980004d85091013a78d40b0dd3744515571262a2e1492ced56559
size 34821
