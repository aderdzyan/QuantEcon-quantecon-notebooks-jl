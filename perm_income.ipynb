version https://git-lfs.github.com/spec/v1
oid sha256:8c25dabf3529adea9dbb48d20aac15cb78ac896fce92f290e45e1f381a2f1d6f
size 46657
