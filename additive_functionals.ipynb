version https://git-lfs.github.com/spec/v1
oid sha256:9a7405c60a0bdd32947cf008a9b7550f31b9011c8bf52b747b6d7d2bb12acf4d
size 41444
