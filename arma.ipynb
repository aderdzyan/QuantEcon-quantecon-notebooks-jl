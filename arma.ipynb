version https://git-lfs.github.com/spec/v1
oid sha256:ec0f572ca289a0abb41a62309619f962b03c458e0f41c30b038a1a38d3703b9d
size 45023
