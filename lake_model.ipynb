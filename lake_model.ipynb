version https://git-lfs.github.com/spec/v1
oid sha256:a99627ee53278ae702880c6ab323eb6995f6543b3918433e29ab61252bd588e0
size 44451
