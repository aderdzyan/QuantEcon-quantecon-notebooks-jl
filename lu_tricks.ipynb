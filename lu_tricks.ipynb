version https://git-lfs.github.com/spec/v1
oid sha256:1302dcc98ec1645ea90e68a791b21f715d40ca41e38a93cd72a40ea776246b67
size 57162
