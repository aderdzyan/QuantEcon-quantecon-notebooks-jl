version https://git-lfs.github.com/spec/v1
oid sha256:230819d2ad0d89007f5edde0a46f3f21f723a28ae82ab00e7e1b78d2e0884d24
size 24307
